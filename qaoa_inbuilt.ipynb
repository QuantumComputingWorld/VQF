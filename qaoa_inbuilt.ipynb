{
 "cells": [
  {
   "cell_type": "code",
   "execution_count": 7,
   "id": "839a4094",
   "metadata": {},
   "outputs": [
    {
     "data": {
      "image/png": "[encoded data removed]",
      "text/plain": [
       "<Figure size 267.197x325.08 with 1 Axes>"
      ]
     },
     "execution_count": 7,
     "metadata": {},
     "output_type": "execute_result"
    }
   ],
   "source": [
    "\n",
    "from qiskit import QuantumRegister, ClassicalRegister, QuantumCircuit\n",
    "from qiskit.circuit import Parameter\n",
    "from numpy import pi\n",
    "\n",
    "qreg_q = QuantumRegister(5, 'q')\n",
    "qreg_q_mix = QuantumRegister(5, 'q') \n",
    "qreg_q_combined = QuantumRegister(5, 'q') \n",
    " # creg_c = ClassicalRegister(5, 'c')\n",
    "circuit = QuantumCircuit(qreg_q)  #, creg_c)\n",
    "circuit_mix = QuantumCircuit(qreg_q_mix)\n",
    "circuit_combined = QuantumCircuit(qreg_q_combined)\n",
    "\n",
    "beta = pi/4;  # Parameter('β')\n",
    "gamma = pi/8;  # Parameter('γ')\n",
    "\n",
    "# circuit.h(qreg_q[0])\n",
    "# circuit.h(qreg_q[1])\n",
    "# circuit.h(qreg_q[2])\n",
    "# circuit.h(qreg_q[3])\n",
    "# circuit.h(qreg_q[4])\n",
    "circuit_mix.barrier(qreg_q_mix[4])\n",
    "circuit_mix.barrier(qreg_q_mix[3])\n",
    "circuit_mix.barrier(qreg_q_mix[2])\n",
    "circuit_mix.barrier(qreg_q_mix[0])\n",
    "circuit_mix.barrier(qreg_q_mix[1])\n",
    "circuit_mix.rx(beta, qreg_q_mix[4])\n",
    "circuit_mix.rx(beta, qreg_q_mix[3])\n",
    "circuit_mix.rx(beta, qreg_q_mix[2])\n",
    "circuit_mix.rx(beta, qreg_q_mix[1])\n",
    "circuit_mix.rx(beta, qreg_q_mix[0])\n",
    "circuit_mix.barrier(qreg_q_mix[0])\n",
    "circuit_mix.barrier(qreg_q_mix[1])\n",
    "circuit_mix.barrier(qreg_q_mix[2])\n",
    "circuit_mix.barrier(qreg_q_mix[3])\n",
    "circuit_mix.barrier(qreg_q_mix[4])\n",
    "\n",
    "circuit.cx(qreg_q[0], qreg_q[1])\n",
    "circuit.rz(gamma, qreg_q[1])\n",
    "circuit.cx(qreg_q[0], qreg_q[1])\n",
    "circuit.cx(qreg_q[0], qreg_q[2])\n",
    "circuit.rz(gamma, qreg_q[2])\n",
    "circuit.cx(qreg_q[0], qreg_q[2])\n",
    "circuit.cx(qreg_q[1], qreg_q[2])\n",
    "circuit.barrier(qreg_q[0])\n",
    "circuit.rz(gamma, qreg_q[2])\n",
    "circuit.barrier(qreg_q[0])\n",
    "circuit.cx(qreg_q[1], qreg_q[2])\n",
    "circuit.barrier(qreg_q[0])\n",
    "circuit.cx(qreg_q[2], qreg_q[3])\n",
    "circuit.barrier(qreg_q[0])\n",
    "circuit.barrier(qreg_q[1])\n",
    "circuit.rz(gamma, qreg_q[3])\n",
    "circuit.barrier(qreg_q[1])\n",
    "circuit.barrier(qreg_q[0])\n",
    "circuit.cx(qreg_q[2], qreg_q[3])\n",
    "circuit.barrier(qreg_q[1])\n",
    "circuit.barrier(qreg_q[0])\n",
    "circuit.cx(qreg_q[2], qreg_q[4])\n",
    "circuit.barrier(qreg_q[1])\n",
    "circuit.barrier(qreg_q[0])\n",
    "circuit.rz(gamma, qreg_q[4])\n",
    "circuit.barrier(qreg_q[1])\n",
    "circuit.barrier(qreg_q[0])\n",
    "circuit.cx(qreg_q[2], qreg_q[4])\n",
    "circuit.barrier(qreg_q[1])\n",
    "circuit.barrier(qreg_q[0])\n",
    "circuit.cx(qreg_q[3], qreg_q[4])\n",
    "circuit.barrier(qreg_q[1])\n",
    "circuit.barrier(qreg_q[0])\n",
    "circuit.barrier(qreg_q[2])\n",
    "circuit.rz(gamma, qreg_q[4])\n",
    "circuit.barrier(qreg_q[1])\n",
    "circuit.barrier(qreg_q[0])\n",
    "circuit.barrier(qreg_q[2])\n",
    "circuit.cx(qreg_q[3], qreg_q[4])\n",
    "circuit.barrier(qreg_q[1])\n",
    "circuit.barrier(qreg_q[0])\n",
    "circuit.barrier(qreg_q[2])\n",
    "circuit.barrier(qreg_q[4])\n",
    "circuit.barrier(qreg_q[0])\n",
    "circuit.barrier(qreg_q[1])\n",
    "circuit.barrier(qreg_q[2])\n",
    "circuit.barrier(qreg_q[3])\n",
    "# circuit.measure(qreg_q[0], creg_c[0])\n",
    "# circuit.measure(qreg_q[1], creg_c[0])\n",
    "# circuit.measure(qreg_q[2], creg_c[0])\n",
    "# circuit.measure(qreg_q[3], creg_c[0])\n",
    "# circuit.measure(qreg_q[4], creg_c[0])\n",
    "\n",
    "\n",
    "# binder needed\n",
    "# circuit = circuit.bind_parameters({gamma: pi/4})\n",
    "# circuit_mix = circuit_mix.bind_parameters({beta: pi/8})\n",
    "\n",
    "# circuit_combined = circuit_mix + circuit\n",
    "circuit_combined.compose(circuit_mix)\n",
    "circuit_combined.compose(circuit)\n",
    "# circuit_combined = circuit_combined.bind_parameters({gamma: pi/4, beta: pi/8})\n",
    "\n",
    "\n",
    "circuit_mix.draw('mpl')\n",
    "\n",
    "\n"
   ]
  },
  {
   "cell_type": "code",
   "execution_count": 27,
   "id": "34a45618",
   "metadata": {},
   "outputs": [
    {
     "name": "stdout",
     "output_type": "stream",
     "text": [
      "(0.7499999999999998-2.3550595673194396e-17j) * III\n",
      "+ (0.24999999999999994-8.242906287383594e-17j) * IIZ\n",
      "+ (0.24999999999999994-9.224214074060954e-17j) * IZI\n",
      "+ (-0.24999999999999994+8.674713361804122e-17j) * IZZ\n",
      "+ (0.24999999999999994-3.1009800783241895e-17j) * XII\n",
      "+ (-0.24999999999999994+8.674713361804124e-17j) * XIZ\n",
      "+ (-0.24999999999999994+7.693405575126764e-17j) * XZI\n",
      "+ (0.24999999999999994-8.242906287383596e-17j) * XZZ\n"
     ]
    }
   ],
   "source": [
    "from qiskit.opflow import Z, I, X, OperatorBase, CircuitOp, PauliOp\n",
    "\n",
    "circuit_decomposed = circuit.decompose().decompose()\n",
    "circuit_decomposed_paulies = CircuitOp(circuit_decomposed).to_pauli_op().reduce()\n",
    "circuit_decomposed.draw('mpl')\n",
    "print(circuit_decomposed_paulies)"
   ]
  },
  {
   "cell_type": "code",
   "execution_count": 30,
   "id": "2361b353",
   "metadata": {},
   "outputs": [
    {
     "ename": "ValueError",
     "evalue": "Operator contains complex coefficients, which are not supported.",
     "output_type": "error",
     "traceback": [
      "\u001b[0;31m---------------------------------------------------------------------------\u001b[0m",
      "\u001b[0;31mValueError\u001b[0m                                Traceback (most recent call last)",
      "Input \u001b[0;32mIn [30]\u001b[0m, in \u001b[0;36m<cell line: 24>\u001b[0;34m()\u001b[0m\n\u001b[1;32m     20\u001b[0m observable_comb \u001b[38;5;241m=\u001b[39m CircuitOp(circuit_combined); \n\u001b[1;32m     23\u001b[0m qaoa \u001b[38;5;241m=\u001b[39m QAOA(optimizer\u001b[38;5;241m=\u001b[39mCOBYLA(), quantum_instance\u001b[38;5;241m=\u001b[39mqinstance)  \u001b[38;5;66;03m# , mixer=mixed)\u001b[39;00m\n\u001b[0;32m---> 24\u001b[0m result \u001b[38;5;241m=\u001b[39m \u001b[43mqaoa\u001b[49m\u001b[38;5;241;43m.\u001b[39;49m\u001b[43mcompute_minimum_eigenvalue\u001b[49m\u001b[43m(\u001b[49m\u001b[43mobservable\u001b[49m\u001b[43m)\u001b[49m  \u001b[38;5;66;03m# ValueError: Expectations of Mixed Operators not yet supported.\u001b[39;00m\n\u001b[1;32m     25\u001b[0m \u001b[38;5;66;03m# result = qaoa.compute_minimum_eigenvalue(observable_comb)  #  TypeError: ParameterExpression with unbound parameters ({Parameter(c)}) cannot be cast to a float.\u001b[39;00m\n\u001b[1;32m     27\u001b[0m \u001b[38;5;28mprint\u001b[39m(result)\n",
      "File \u001b[0;32m~/Documents/IITd/labs/qcqml/lib/python3.8/site-packages/qiskit/algorithms/minimum_eigen_solvers/vqe.py:496\u001b[0m, in \u001b[0;36mVQE.compute_minimum_eigenvalue\u001b[0;34m(self, operator, aux_operators)\u001b[0m\n\u001b[1;32m    492\u001b[0m \u001b[38;5;28mself\u001b[39m\u001b[38;5;241m.\u001b[39mquantum_instance\u001b[38;5;241m.\u001b[39mcircuit_summary \u001b[38;5;241m=\u001b[39m \u001b[38;5;28;01mTrue\u001b[39;00m\n\u001b[1;32m    494\u001b[0m \u001b[38;5;66;03m# this sets the size of the ansatz, so it must be called before the initial point\u001b[39;00m\n\u001b[1;32m    495\u001b[0m \u001b[38;5;66;03m# validation\u001b[39;00m\n\u001b[0;32m--> 496\u001b[0m \u001b[38;5;28;43mself\u001b[39;49m\u001b[38;5;241;43m.\u001b[39;49m\u001b[43m_check_operator_ansatz\u001b[49m\u001b[43m(\u001b[49m\u001b[43moperator\u001b[49m\u001b[43m)\u001b[49m\n\u001b[1;32m    498\u001b[0m \u001b[38;5;66;03m# set an expectation for this algorithm run (will be reset to None at the end)\u001b[39;00m\n\u001b[1;32m    499\u001b[0m initial_point \u001b[38;5;241m=\u001b[39m _validate_initial_point(\u001b[38;5;28mself\u001b[39m\u001b[38;5;241m.\u001b[39minitial_point, \u001b[38;5;28mself\u001b[39m\u001b[38;5;241m.\u001b[39mansatz)\n",
      "File \u001b[0;32m~/Documents/IITd/labs/qcqml/lib/python3.8/site-packages/qiskit/algorithms/minimum_eigen_solvers/qaoa.py:149\u001b[0m, in \u001b[0;36mQAOA._check_operator_ansatz\u001b[0;34m(self, operator)\u001b[0m\n\u001b[1;32m    147\u001b[0m \u001b[38;5;28;01mif\u001b[39;00m operator \u001b[38;5;241m!=\u001b[39m \u001b[38;5;28mself\u001b[39m\u001b[38;5;241m.\u001b[39m_cost_operator:\n\u001b[1;32m    148\u001b[0m     \u001b[38;5;28mself\u001b[39m\u001b[38;5;241m.\u001b[39m_cost_operator \u001b[38;5;241m=\u001b[39m operator\n\u001b[0;32m--> 149\u001b[0m     \u001b[38;5;28mself\u001b[39m\u001b[38;5;241m.\u001b[39mansatz \u001b[38;5;241m=\u001b[39m \u001b[43mQAOAAnsatz\u001b[49m\u001b[43m(\u001b[49m\n\u001b[1;32m    150\u001b[0m \u001b[43m        \u001b[49m\u001b[43moperator\u001b[49m\u001b[43m,\u001b[49m\u001b[43m \u001b[49m\u001b[38;5;28;43mself\u001b[39;49m\u001b[38;5;241;43m.\u001b[39;49m\u001b[43m_reps\u001b[49m\u001b[43m,\u001b[49m\u001b[43m \u001b[49m\u001b[43minitial_state\u001b[49m\u001b[38;5;241;43m=\u001b[39;49m\u001b[38;5;28;43mself\u001b[39;49m\u001b[38;5;241;43m.\u001b[39;49m\u001b[43m_initial_state\u001b[49m\u001b[43m,\u001b[49m\u001b[43m \u001b[49m\u001b[43mmixer_operator\u001b[49m\u001b[38;5;241;43m=\u001b[39;49m\u001b[38;5;28;43mself\u001b[39;49m\u001b[38;5;241;43m.\u001b[39;49m\u001b[43m_mixer\u001b[49m\n\u001b[1;32m    151\u001b[0m \u001b[43m    \u001b[49m\u001b[43m)\u001b[49m\u001b[38;5;241;43m.\u001b[39;49m\u001b[43mdecompose\u001b[49m\u001b[43m(\u001b[49m\u001b[43m)\u001b[49m\n",
      "File \u001b[0;32m~/Documents/IITd/labs/qcqml/lib/python3.8/site-packages/qiskit/circuit/library/blueprintcircuit.py:96\u001b[0m, in \u001b[0;36mBlueprintCircuit.decompose\u001b[0;34m(self, gates_to_decompose, reps)\u001b[0m\n\u001b[1;32m     94\u001b[0m \u001b[38;5;28;01mdef\u001b[39;00m \u001b[38;5;21mdecompose\u001b[39m(\u001b[38;5;28mself\u001b[39m, gates_to_decompose\u001b[38;5;241m=\u001b[39m\u001b[38;5;28;01mNone\u001b[39;00m, reps\u001b[38;5;241m=\u001b[39m\u001b[38;5;241m1\u001b[39m):\n\u001b[1;32m     95\u001b[0m     \u001b[38;5;28;01mif\u001b[39;00m \u001b[38;5;129;01mnot\u001b[39;00m \u001b[38;5;28mself\u001b[39m\u001b[38;5;241m.\u001b[39m_is_built:\n\u001b[0;32m---> 96\u001b[0m         \u001b[38;5;28;43mself\u001b[39;49m\u001b[38;5;241;43m.\u001b[39;49m\u001b[43m_build\u001b[49m\u001b[43m(\u001b[49m\u001b[43m)\u001b[49m\n\u001b[1;32m     97\u001b[0m     \u001b[38;5;28;01mreturn\u001b[39;00m \u001b[38;5;28msuper\u001b[39m()\u001b[38;5;241m.\u001b[39mdecompose(gates_to_decompose, reps)\n",
      "File \u001b[0;32m~/Documents/IITd/labs/qcqml/lib/python3.8/site-packages/qiskit/circuit/library/n_local/qaoa_ansatz.py:261\u001b[0m, in \u001b[0;36mQAOAAnsatz._build\u001b[0;34m(self)\u001b[0m\n\u001b[1;32m    258\u001b[0m \u001b[38;5;28;01mif\u001b[39;00m \u001b[38;5;28mself\u001b[39m\u001b[38;5;241m.\u001b[39m_is_built:\n\u001b[1;32m    259\u001b[0m     \u001b[38;5;28;01mreturn\u001b[39;00m\n\u001b[0;32m--> 261\u001b[0m \u001b[38;5;28;43msuper\u001b[39;49m\u001b[43m(\u001b[49m\u001b[43m)\u001b[49m\u001b[38;5;241;43m.\u001b[39;49m\u001b[43m_build\u001b[49m\u001b[43m(\u001b[49m\u001b[43m)\u001b[49m\n\u001b[1;32m    263\u001b[0m \u001b[38;5;66;03m# keep old parameter order: first cost operator, then mixer operators\u001b[39;00m\n\u001b[1;32m    264\u001b[0m num_cost \u001b[38;5;241m=\u001b[39m \u001b[38;5;241m0\u001b[39m \u001b[38;5;28;01mif\u001b[39;00m _is_pauli_identity(\u001b[38;5;28mself\u001b[39m\u001b[38;5;241m.\u001b[39mcost_operator) \u001b[38;5;28;01melse\u001b[39;00m \u001b[38;5;241m1\u001b[39m\n",
      "File \u001b[0;32m~/Documents/IITd/labs/qcqml/lib/python3.8/site-packages/qiskit/circuit/library/evolved_operator_ansatz.py:174\u001b[0m, in \u001b[0;36mEvolvedOperatorAnsatz._build\u001b[0;34m(self)\u001b[0m\n\u001b[1;32m    171\u001b[0m         \u001b[38;5;28;01mif\u001b[39;00m _is_pauli_identity(op):\n\u001b[1;32m    172\u001b[0m             \u001b[38;5;28;01mcontinue\u001b[39;00m\n\u001b[0;32m--> 174\u001b[0m         evolved_op \u001b[38;5;241m=\u001b[39m \u001b[38;5;28;43mself\u001b[39;49m\u001b[38;5;241;43m.\u001b[39;49m\u001b[43mevolution\u001b[49m\u001b[38;5;241;43m.\u001b[39;49m\u001b[43mconvert\u001b[49m\u001b[43m(\u001b[49m\u001b[43m(\u001b[49m\u001b[43mcoeff\u001b[49m\u001b[43m \u001b[49m\u001b[38;5;241;43m*\u001b[39;49m\u001b[43m \u001b[49m\u001b[43mop\u001b[49m\u001b[43m)\u001b[49m\u001b[38;5;241;43m.\u001b[39;49m\u001b[43mexp_i\u001b[49m\u001b[43m(\u001b[49m\u001b[43m)\u001b[49m\u001b[43m)\u001b[49m\u001b[38;5;241m.\u001b[39mreduce()\n\u001b[1;32m    175\u001b[0m         circuits\u001b[38;5;241m.\u001b[39mappend(evolved_op\u001b[38;5;241m.\u001b[39mto_circuit())\n\u001b[1;32m    177\u001b[0m \u001b[38;5;28mself\u001b[39m\u001b[38;5;241m.\u001b[39mrotation_blocks \u001b[38;5;241m=\u001b[39m []\n",
      "File \u001b[0;32m~/Documents/IITd/labs/qcqml/lib/python3.8/site-packages/qiskit/opflow/evolutions/pauli_trotter_evolution.py:106\u001b[0m, in \u001b[0;36mPauliTrotterEvolution.convert\u001b[0;34m(self, operator)\u001b[0m\n\u001b[1;32m     92\u001b[0m \u001b[38;5;124mr\u001b[39m\u001b[38;5;124;03m\"\"\"\u001b[39;00m\n\u001b[1;32m     93\u001b[0m \u001b[38;5;124;03mTraverse the operator, replacing ``EvolvedOps`` with ``CircuitOps`` containing\u001b[39;00m\n\u001b[1;32m     94\u001b[0m \u001b[38;5;124;03mTrotterized evolutions equalling the exponentiation of -i * operator.\u001b[39;00m\n\u001b[0;32m   (...)\u001b[0m\n\u001b[1;32m    100\u001b[0m \u001b[38;5;124;03m    The converted operator.\u001b[39;00m\n\u001b[1;32m    101\u001b[0m \u001b[38;5;124;03m\"\"\"\u001b[39;00m\n\u001b[1;32m    102\u001b[0m \u001b[38;5;66;03m# TODO uncomment when we implement Abelian grouped evolution.\u001b[39;00m\n\u001b[1;32m    103\u001b[0m \u001b[38;5;66;03m# if self._grouper:\u001b[39;00m\n\u001b[1;32m    104\u001b[0m \u001b[38;5;66;03m#     # Sort into commuting groups\u001b[39;00m\n\u001b[1;32m    105\u001b[0m \u001b[38;5;66;03m#     operator = self._grouper.convert(operator).reduce()\u001b[39;00m\n\u001b[0;32m--> 106\u001b[0m \u001b[38;5;28;01mreturn\u001b[39;00m \u001b[38;5;28;43mself\u001b[39;49m\u001b[38;5;241;43m.\u001b[39;49m\u001b[43m_recursive_convert\u001b[49m\u001b[43m(\u001b[49m\u001b[43moperator\u001b[49m\u001b[43m)\u001b[49m\n",
      "File \u001b[0;32m~/Documents/IITd/labs/qcqml/lib/python3.8/site-packages/qiskit/opflow/evolutions/pauli_trotter_evolution.py:119\u001b[0m, in \u001b[0;36mPauliTrotterEvolution._recursive_convert\u001b[0;34m(self, operator)\u001b[0m\n\u001b[1;32m    117\u001b[0m pauli \u001b[38;5;241m=\u001b[39m operator\u001b[38;5;241m.\u001b[39mprimitive\u001b[38;5;241m.\u001b[39mprimitive\n\u001b[1;32m    118\u001b[0m time \u001b[38;5;241m=\u001b[39m operator\u001b[38;5;241m.\u001b[39mcoeff \u001b[38;5;241m*\u001b[39m operator\u001b[38;5;241m.\u001b[39mprimitive\u001b[38;5;241m.\u001b[39mcoeff\n\u001b[0;32m--> 119\u001b[0m evo \u001b[38;5;241m=\u001b[39m \u001b[43mPauliEvolutionGate\u001b[49m\u001b[43m(\u001b[49m\n\u001b[1;32m    120\u001b[0m \u001b[43m    \u001b[49m\u001b[43mpauli\u001b[49m\u001b[43m,\u001b[49m\u001b[43m \u001b[49m\u001b[43mtime\u001b[49m\u001b[38;5;241;43m=\u001b[39;49m\u001b[43mtime\u001b[49m\u001b[43m,\u001b[49m\u001b[43m \u001b[49m\u001b[43msynthesis\u001b[49m\u001b[38;5;241;43m=\u001b[39;49m\u001b[38;5;28;43mself\u001b[39;49m\u001b[38;5;241;43m.\u001b[39;49m\u001b[43m_get_evolution_synthesis\u001b[49m\u001b[43m(\u001b[49m\u001b[43m)\u001b[49m\n\u001b[1;32m    121\u001b[0m \u001b[43m\u001b[49m\u001b[43m)\u001b[49m\n\u001b[1;32m    122\u001b[0m \u001b[38;5;28;01mreturn\u001b[39;00m CircuitOp(evo)\n\u001b[1;32m    123\u001b[0m \u001b[38;5;66;03m# operator = EvolvedOp(operator.primitive.to_pauli_op(), coeff=operator.coeff)\u001b[39;00m\n",
      "File \u001b[0;32m~/Documents/IITd/labs/qcqml/lib/python3.8/site-packages/qiskit/circuit/library/pauli_evolution.py:102\u001b[0m, in \u001b[0;36mPauliEvolutionGate.__init__\u001b[0;34m(self, operator, time, label, synthesis)\u001b[0m\n\u001b[1;32m    100\u001b[0m     operator \u001b[38;5;241m=\u001b[39m [_to_sparse_pauli_op(op) \u001b[38;5;28;01mfor\u001b[39;00m op \u001b[38;5;129;01min\u001b[39;00m operator]\n\u001b[1;32m    101\u001b[0m \u001b[38;5;28;01melse\u001b[39;00m:\n\u001b[0;32m--> 102\u001b[0m     operator \u001b[38;5;241m=\u001b[39m \u001b[43m_to_sparse_pauli_op\u001b[49m\u001b[43m(\u001b[49m\u001b[43moperator\u001b[49m\u001b[43m)\u001b[49m\n\u001b[1;32m    104\u001b[0m \u001b[38;5;28;01mif\u001b[39;00m synthesis \u001b[38;5;129;01mis\u001b[39;00m \u001b[38;5;28;01mNone\u001b[39;00m:\n\u001b[1;32m    105\u001b[0m     synthesis \u001b[38;5;241m=\u001b[39m LieTrotter()\n",
      "File \u001b[0;32m~/Documents/IITd/labs/qcqml/lib/python3.8/site-packages/qiskit/circuit/library/pauli_evolution.py:172\u001b[0m, in \u001b[0;36m_to_sparse_pauli_op\u001b[0;34m(operator)\u001b[0m\n\u001b[1;32m    169\u001b[0m     \u001b[38;5;28;01mraise\u001b[39;00m \u001b[38;5;167;01mValueError\u001b[39;00m(\u001b[38;5;124mf\u001b[39m\u001b[38;5;124m\"\u001b[39m\u001b[38;5;124mUnsupported operator type for evolution: \u001b[39m\u001b[38;5;132;01m{\u001b[39;00m\u001b[38;5;28mtype\u001b[39m(operator)\u001b[38;5;132;01m}\u001b[39;00m\u001b[38;5;124m.\u001b[39m\u001b[38;5;124m\"\u001b[39m)\n\u001b[1;32m    171\u001b[0m \u001b[38;5;28;01mif\u001b[39;00m \u001b[38;5;28many\u001b[39m(np\u001b[38;5;241m.\u001b[39miscomplex(sparse_pauli\u001b[38;5;241m.\u001b[39mcoeffs)):\n\u001b[0;32m--> 172\u001b[0m     \u001b[38;5;28;01mraise\u001b[39;00m \u001b[38;5;167;01mValueError\u001b[39;00m(\u001b[38;5;124m\"\u001b[39m\u001b[38;5;124mOperator contains complex coefficients, which are not supported.\u001b[39m\u001b[38;5;124m\"\u001b[39m)\n\u001b[1;32m    174\u001b[0m \u001b[38;5;28;01mreturn\u001b[39;00m sparse_pauli\n",
      "\u001b[0;31mValueError\u001b[0m: Operator contains complex coefficients, which are not supported."
     ]
    }
   ],
   "source": [
    "\n",
    "from qiskit.opflow import Z, I, X, OperatorBase, CircuitOp, PauliOp\n",
    "\n",
    "\n",
    "from qiskit.algorithms import QAOA\n",
    "from qiskit.algorithms.optimizers import COBYLA\n",
    "# from qiskit.opflow\n",
    "from qiskit.utils import QuantumInstance\n",
    "from qiskit import Aer\n",
    "from qiskit.quantum_info.operators import Operator\n",
    "\n",
    "backend = Aer.get_backend('aer_simulator')\n",
    "\n",
    "qinstance=QuantumInstance(backend, shots=1, skip_qobj_validation=False)\n",
    "\n",
    "# My assumption: here intial, observable and mixer all in one place\n",
    "# Here it expects pure pauli\n",
    "# have to bring the circuit to pure pauli manually\n",
    "observable = circuit_decomposed_paulies # CircuitOp(circuit.decompose().decompose()).to_pauli_op().reduce()  # Not Implemented => .to_pauli_op()  # PauliOp( equivalent to \"Sum (I - Z^Z)/2\n",
    "mixed = CircuitOp(circuit_mix)  # .to_pauli_op();\n",
    "observable_comb = CircuitOp(circuit_combined); \n",
    "\n",
    "\n",
    "qaoa = QAOA(optimizer=COBYLA(), quantum_instance=qinstance)  # , mixer=mixed)\n",
    "result = qaoa.compute_minimum_eigenvalue(observable)  # ValueError: Expectations of Mixed Operators not yet supported.\n",
    "# result = qaoa.compute_minimum_eigenvalue(observable_comb)  #  TypeError: ParameterExpression with unbound parameters ({Parameter(c)}) cannot be cast to a float.\n",
    " \n",
    "print(result)"
   ]
  },
  {
   "cell_type": "code",
   "execution_count": 18,
   "id": "7a398bec",
   "metadata": {},
   "outputs": [
    {
     "data": {
      "text/html": [
       "<pre style=\"word-wrap: normal;white-space: pre;background: #fff0;line-height: 1.1;font-family: &quot;Courier New&quot;,Courier,monospace\">          \n",
       "q_0: ──■──\n",
       "       │  \n",
       "q_1: ──■──\n",
       "     ┌─┴─┐\n",
       "q_2: ┤ X ├\n",
       "     └───┘</pre>"
      ],
      "text/plain": [
       "          \n",
       "q_0: ──■──\n",
       "       │  \n",
       "q_1: ──■──\n",
       "     ┌─┴─┐\n",
       "q_2: ┤ X ├\n",
       "     └───┘"
      ]
     },
     "execution_count": 18,
     "metadata": {},
     "output_type": "execute_result"
    }
   ],
   "source": [
    "from qiskit import QuantumRegister, ClassicalRegister, QuantumCircuit\n",
    "from numpy import pi\n",
    "from qiskit.opflow import Z, I, X, OperatorBase, CircuitOp, PauliOp\n",
    "\n",
    "\n",
    "qreg_q = QuantumRegister(3, 'q')\n",
    "creg_c = ClassicalRegister(1, 'c')\n",
    "circuit = QuantumCircuit(qreg_q)  #, creg_c)\n",
    "\n",
    "# circuit.reset(qreg_q[0])\n",
    "# circuit.reset(qreg_q[1])\n",
    "circuit.ccx(qreg_q[0], qreg_q[1], qreg_q[2])\n",
    "gate = circuit.to_gate()\n",
    "circuit.draw('text')\n",
    "#circuit.measure(qreg_q[2], creg_c[0])\n",
    "# @columns [0,0,2,3]"
   ]
  },
  {
   "cell_type": "code",
   "execution_count": 19,
   "id": "2cc982df",
   "metadata": {},
   "outputs": [
    {
     "name": "stdout",
     "output_type": "stream",
     "text": [
      "SummedOp([\n",
      "  0.75 * III,\n",
      "  0.25 * IIZ,\n",
      "  0.25 * IZI,\n",
      "  -0.25 * IZZ,\n",
      "  0.25 * XII,\n",
      "  -0.25 * XIZ,\n",
      "  -0.25 * XZI,\n",
      "  0.25 * XZZ\n",
      "])\n"
     ]
    },
    {
     "data": {
      "text/html": [
       "<pre style=\"word-wrap: normal;white-space: pre;background: #fff0;line-height: 1.1;font-family: &quot;Courier New&quot;,Courier,monospace\">          \n",
       "q_0: ──■──\n",
       "       │  \n",
       "q_1: ──■──\n",
       "     ┌─┴─┐\n",
       "q_2: ┤ X ├\n",
       "     └───┘</pre>"
      ],
      "text/plain": [
       "          \n",
       "q_0: ──■──\n",
       "       │  \n",
       "q_1: ──■──\n",
       "     ┌─┴─┐\n",
       "q_2: ┤ X ├\n",
       "     └───┘"
      ]
     },
     "execution_count": 19,
     "metadata": {},
     "output_type": "execute_result"
    }
   ],
   "source": [
    "from qiskit import QuantumRegister, ClassicalRegister, QuantumCircuit\n",
    "from numpy import pi\n",
    "from qiskit.opflow import Z, I, X, OperatorBase, CircuitOp, PauliOp\n",
    "\n",
    "\n",
    "qreg_q = QuantumRegister(3, 'q')\n",
    "creg_c = ClassicalRegister(1, 'c')\n",
    "circuit = QuantumCircuit(qreg_q)  #, creg_c)\n",
    "\n",
    "# circuit.reset(qreg_q[0])\n",
    "# circuit.reset(qreg_q[1])\n",
    "circuit.ccx(qreg_q[0], qreg_q[1], qreg_q[2])\n",
    "paulies = CircuitOp(circuit).to_pauli_op()\n",
    "print(paulies)\n",
    "circuit.draw('text')\n",
    "#circuit.measure(qreg_q[2], creg_c[0])\n",
    "# @columns [0,0,2,3]"
   ]
  },
  {
   "cell_type": "code",
   "execution_count": null,
   "id": "b13577b7",
   "metadata": {},
   "outputs": [],
   "source": []
  }
 ],
 "metadata": {
  "kernelspec": {
   "display_name": "Python 3",
   "language": "python",
   "name": "python3"
  },
  "language_info": {
   "codemirror_mode": {
    "name": "ipython",
    "version": 3
   },
   "file_extension": ".py",
   "mimetype": "text/x-python",
   "name": "python",
   "nbconvert_exporter": "python",
   "pygments_lexer": "ipython3",
   "version": "3.8.14"
  }
 },
 "nbformat": 4,
 "nbformat_minor": 5
}
